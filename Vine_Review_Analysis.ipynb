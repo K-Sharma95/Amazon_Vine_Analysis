{
  "nbformat": 4,
  "nbformat_minor": 0,
  "metadata": {
    "colab": {
      "name": "Vine_Review_Analysis.ipynb",
      "provenance": [],
      "collapsed_sections": []
    },
    "kernelspec": {
      "name": "python3",
      "display_name": "Python 3"
    }
  },
  "cells": [
    {
      "cell_type": "code",
      "metadata": {
        "colab": {
          "base_uri": "https://localhost:8080/"
        },
        "id": "il4z_aBK8x71",
        "outputId": "4ef71508-2d01-42af-daf0-da0f2670969a"
      },
      "source": [
        "import os\r\n",
        "# Find the latest version of spark 2.0  from http://www-us.apache.org/dist/spark/ and enter as the spark version\r\n",
        "# For example:\r\n",
        "# spark_version = 'spark-3.0.0'\r\n",
        "spark_version = 'spark-3.0.2'\r\n",
        "os.environ['SPARK_VERSION']=spark_version\r\n",
        "\r\n",
        "# Install Spark and Java\r\n",
        "!apt-get update\r\n",
        "!apt-get install openjdk-11-jdk-headless -qq > /dev/null\r\n",
        "!wget -q http://www-us.apache.org/dist/spark/$SPARK_VERSION/$SPARK_VERSION-bin-hadoop2.7.tgz\r\n",
        "!tar xf $SPARK_VERSION-bin-hadoop2.7.tgz\r\n",
        "!pip install -q findspark\r\n",
        "\r\n",
        "# Set Environment Variables\r\n",
        "import os\r\n",
        "os.environ[\"JAVA_HOME\"] = \"/usr/lib/jvm/java-11-openjdk-amd64\"\r\n",
        "os.environ[\"SPARK_HOME\"] = f\"/content/{spark_version}-bin-hadoop2.7\"\r\n",
        "\r\n",
        "# Start a SparkSession\r\n",
        "import findspark\r\n",
        "findspark.init()"
      ],
      "execution_count": 14,
      "outputs": [
        {
          "output_type": "stream",
          "text": [
            "\r0% [Working]\r            \rHit:1 http://archive.ubuntu.com/ubuntu bionic InRelease\n",
            "\r0% [Connecting to security.ubuntu.com (91.189.91.39)] [Connected to cloud.r-pro\r                                                                               \rGet:2 http://archive.ubuntu.com/ubuntu bionic-updates InRelease [88.7 kB]\n",
            "\r                                                                               \rHit:3 http://ppa.launchpad.net/c2d4u.team/c2d4u4.0+/ubuntu bionic InRelease\n",
            "\r0% [2 InRelease 44.6 kB/88.7 kB 50%] [Connecting to security.ubuntu.com (91.189\r0% [1 InRelease gpgv 242 kB] [2 InRelease 47.5 kB/88.7 kB 54%] [Connecting to s\r                                                                               \rHit:4 https://cloud.r-project.org/bin/linux/ubuntu bionic-cran40/ InRelease\n",
            "\r0% [1 InRelease gpgv 242 kB] [2 InRelease 47.5 kB/88.7 kB 54%] [Connecting to s\r                                                                               \rHit:5 http://ppa.launchpad.net/cran/libgit2/ubuntu bionic InRelease\n",
            "\r0% [1 InRelease gpgv 242 kB] [2 InRelease 47.5 kB/88.7 kB 54%] [Connecting to s\r0% [1 InRelease gpgv 242 kB] [Connecting to security.ubuntu.com (91.189.91.39)]\r                                                                               \rGet:6 http://archive.ubuntu.com/ubuntu bionic-backports InRelease [74.6 kB]\n",
            "\r0% [1 InRelease gpgv 242 kB] [6 InRelease 8,393 B/74.6 kB 11%] [Connecting to s\r                                                                               \rHit:7 http://ppa.launchpad.net/deadsnakes/ppa/ubuntu bionic InRelease\n",
            "\r0% [1 InRelease gpgv 242 kB] [6 InRelease 51.8 kB/74.6 kB 70%] [Connecting to s\r0% [1 InRelease gpgv 242 kB] [Connecting to security.ubuntu.com (91.189.91.39)]\r                                                                               \rHit:8 http://ppa.launchpad.net/graphics-drivers/ppa/ubuntu bionic InRelease\n",
            "\r                                                                               \r0% [1 InRelease gpgv 242 kB] [Waiting for headers] [Waiting for headers]\r                                                                        \rGet:9 http://security.ubuntu.com/ubuntu bionic-security InRelease [88.7 kB]\n",
            "Ign:10 https://developer.download.nvidia.com/compute/cuda/repos/ubuntu1804/x86_64  InRelease\n",
            "Ign:11 https://developer.download.nvidia.com/compute/machine-learning/repos/ubuntu1804/x86_64  InRelease\n",
            "Hit:12 https://developer.download.nvidia.com/compute/cuda/repos/ubuntu1804/x86_64  Release\n",
            "Hit:13 https://developer.download.nvidia.com/compute/machine-learning/repos/ubuntu1804/x86_64  Release\n",
            "Get:14 http://archive.ubuntu.com/ubuntu bionic-updates/main amd64 Packages [2,395 kB]\n",
            "Fetched 2,647 kB in 2s (1,149 kB/s)\n",
            "Reading package lists... Done\n"
          ],
          "name": "stdout"
        }
      ]
    },
    {
      "cell_type": "code",
      "metadata": {
        "colab": {
          "base_uri": "https://localhost:8080/"
        },
        "id": "ShMB8rFL_Bbo",
        "outputId": "f4441d25-33ac-4e6d-aae9-d40eb6b843b1"
      },
      "source": [
        "# Download the Postgres driver that will allow Spark to interact with Postgres.\r\n",
        "!wget https://jdbc.postgresql.org/download/postgresql-42.2.16.jar"
      ],
      "execution_count": 15,
      "outputs": [
        {
          "output_type": "stream",
          "text": [
            "--2021-03-02 23:28:18--  https://jdbc.postgresql.org/download/postgresql-42.2.16.jar\n",
            "Resolving jdbc.postgresql.org (jdbc.postgresql.org)... 72.32.157.228, 2001:4800:3e1:1::228\n",
            "Connecting to jdbc.postgresql.org (jdbc.postgresql.org)|72.32.157.228|:443... connected.\n",
            "HTTP request sent, awaiting response... 200 OK\n",
            "Length: 1002883 (979K) [application/java-archive]\n",
            "Saving to: ‘postgresql-42.2.16.jar.1’\n",
            "\n",
            "postgresql-42.2.16. 100%[===================>] 979.38K  1.66MB/s    in 0.6s    \n",
            "\n",
            "2021-03-02 23:28:19 (1.66 MB/s) - ‘postgresql-42.2.16.jar.1’ saved [1002883/1002883]\n",
            "\n"
          ],
          "name": "stdout"
        }
      ]
    },
    {
      "cell_type": "code",
      "metadata": {
        "id": "U-tYEvFh_BpT"
      },
      "source": [
        "from pyspark.sql import SparkSession\r\n",
        "spark = SparkSession.builder.appName(\"BigData-Challenge\").config(\"spark.driver.extraClassPath\",\"/content/postgresql-42.2.16.jar\").getOrCreate()"
      ],
      "execution_count": 16,
      "outputs": []
    },
    {
      "cell_type": "code",
      "metadata": {
        "id": "YrRb195w_B3J",
        "colab": {
          "base_uri": "https://localhost:8080/"
        },
        "outputId": "dd32516f-16ea-40a1-b726-01ea24e3be5d"
      },
      "source": [
        "from pyspark import SparkFiles\r\n",
        "url = \"https://s3.amazonaws.com/amazon-reviews-pds/tsv/amazon_reviews_us_Music_v1_00.tsv.gz\"\r\n",
        "spark.sparkContext.addFile(url)\r\n",
        "df = spark.read.option(\"encoding\", \"UTF-8\").csv(SparkFiles.get(\"amazon_reviews_us_Music_v1_00.tsv.gz\"), sep=\"\\t\", header=True, inferSchema=True)\r\n",
        "df.show()"
      ],
      "execution_count": 17,
      "outputs": [
        {
          "output_type": "stream",
          "text": [
            "+-----------+-----------+--------------+----------+--------------+--------------------+----------------+-----------+-------------+-----------+----+-----------------+--------------------+--------------------+-----------+\n",
            "|marketplace|customer_id|     review_id|product_id|product_parent|       product_title|product_category|star_rating|helpful_votes|total_votes|vine|verified_purchase|     review_headline|         review_body|review_date|\n",
            "+-----------+-----------+--------------+----------+--------------+--------------------+----------------+-----------+-------------+-----------+----+-----------------+--------------------+--------------------+-----------+\n",
            "|         US|   10140119|R3LI5TRP3YIDQL|B00TXH4OLC|     384427924|Whatever's for Us...|           Music|          5|            0|          0|   N|                Y|          Five Stars|Love this CD alon...| 2015-08-31|\n",
            "|         US|   27664622|R3LGC3EKEG84PX|B00B6QXN6U|     831769051|Same Trailer Diff...|           Music|          5|            0|          0|   N|                Y|A new fave in our...|This is the album...| 2015-08-31|\n",
            "|         US|   45946560| R9PYL3OYH55QY|B001GCZXW6|      14067376| Soaring (Jazz Club)|           Music|          5|            0|          1|   N|                Y|          Five Stars|  Excellent / thanks| 2015-08-31|\n",
            "|         US|   15146326|R3PWBAWUS4NT0Q|B000003EK6|     566295619|     CARIBBEAN PARTY|           Music|          3|            0|          0|   N|                Y|         Three Stars|Nice variety of c...| 2015-08-31|\n",
            "|         US|   16794688|R15LYP3O51UU9E|B00N1F0BKK|     210426072|         Pain Killer|           Music|          5|            0|          0|   N|                Y|          Five Stars|Purchased as a gi...| 2015-08-31|\n",
            "|         US|   32203364|R1AD7L0CC3DSRI|B00V7KAO7Q|     360249504|A Thoughtiverse U...|           Music|          5|            0|          0|   N|                Y|Definitely worth ...|Really enjoyed th...| 2015-08-31|\n",
            "|         US|    1194276|R32FE8Y45QV434|B000094Q4P|      20972283|Comfort of Her Wings|           Music|          5|            0|          0|   N|                Y|          Five Stars|            Great CD| 2015-08-31|\n",
            "|         US|   45813052|R3NM4MZ4XWL43Q|B00JMK0P1I|     378049560|Sleep Soundly CD ...|           Music|          5|            1|          2|   N|                Y|          Five Stars|       Excellent CD!| 2015-08-31|\n",
            "|         US|   12795687|R3H4FXX6Q7I37D|B008OW1S3O|     141620702|     An Awesome Wave|           Music|          4|            0|          0|   N|                Y|          Four Stars|                nice| 2015-08-31|\n",
            "|         US|   36673840|R30L5PET7LFFDC|B00VI2L3L4|     920557135|          Blurryface|           Music|          5|            1|          1|   N|                Y|        Outstanding!|Outstanding music...| 2015-08-31|\n",
            "|         US|   49453576|  REFRE1LEKLAF|B0000041EV|     683128964|Mozart For Mother...|           Music|          4|            1|          1|   N|                Y|          Four Stars|      quite relaxing| 2015-08-31|\n",
            "|         US|    3285047|R3JTJ5EQN74E9H|B00005YW4H|     268461622|   Come Away with Me|           Music|          5|            0|          0|   N|                Y|          Five Stars|I love this CD.  ...| 2015-08-31|\n",
            "|         US|   24471201|R1W2F091LCOAW5|B00Q9KEZV0|     444090572| Tomorrow Is My Turn|           Music|          5|            0|          0|   N|                Y|FIve Stars and Th...|Rhiannon Giddens ...| 2015-08-31|\n",
            "|         US|   28049396| RYUMFQRRB1FNM|B00GFXRKHW|     482597726|       The Outsiders|           Music|          3|            0|          0|   N|                Y|         Three Stars|Wrecking Ball is ...| 2015-08-31|\n",
            "|         US|   41137196| RHCS6VVXWV3Q3|B004L3AQ10|     609457123|  The Lincoln Lawyer|           Music|          5|            0|          0|   N|                Y|          Five Stars|I was pleased wit...| 2015-08-31|\n",
            "|         US|   43305401|R35UL1YZ2142SL|B0000025PM|     125399885|Bach: Goldberg Va...|           Music|          5|            0|          0|   N|                Y|   The Creative Flow|The music that in...| 2015-08-31|\n",
            "|         US|   50808489|  RU1O6QD1LEBB|B00701QUN8|     144457491|Quiet Riot - Grea...|           Music|          5|            0|          0|   N|                Y|          Five Stars|   Excellent CD&#62;| 2015-08-31|\n",
            "|         US|   15536614|R36RXVL3XIZFH7|B003UJC2QI|     207971309|Love Or Money/Lov...|           Music|          5|            0|          0|   N|                N|    Great Pop Single|Love Or Money by ...| 2015-08-31|\n",
            "|         US|   32536909|R16O7SHYHLEYA1|B00LGA16J2|     760666287|Jonas Kaufmann - ...|           Music|          5|            0|          0|   N|                Y|          Five Stars|      Just splendid!| 2015-08-31|\n",
            "|         US|   51160312|R1Y5GX65Z2V9BG|B00ZGVMLLE|      37408836|        Clockworking|           Music|          5|            0|          0|   N|                N|Glorious Glorious...|One of my favorit...| 2015-08-31|\n",
            "+-----------+-----------+--------------+----------+--------------+--------------------+----------------+-----------+-------------+-----------+----+-----------------+--------------------+--------------------+-----------+\n",
            "only showing top 20 rows\n",
            "\n"
          ],
          "name": "stdout"
        }
      ]
    },
    {
      "cell_type": "code",
      "metadata": {
        "colab": {
          "base_uri": "https://localhost:8080/"
        },
        "id": "Bh5j3XQsBqBq",
        "outputId": "a887584c-9ee5-44f2-f8ef-f2cbb07fac43"
      },
      "source": [
        "# Create the vine_table. DataFrame\r\n",
        "vine_df = df.select([\"review_id\", \"star_rating\", \"helpful_votes\", \"total_votes\", \"vine\", \"verified_purchase\" ])\r\n",
        "vine_df.show(20)\r\n"
      ],
      "execution_count": 18,
      "outputs": [
        {
          "output_type": "stream",
          "text": [
            "+--------------+-----------+-------------+-----------+----+-----------------+\n",
            "|     review_id|star_rating|helpful_votes|total_votes|vine|verified_purchase|\n",
            "+--------------+-----------+-------------+-----------+----+-----------------+\n",
            "|R3LI5TRP3YIDQL|          5|            0|          0|   N|                Y|\n",
            "|R3LGC3EKEG84PX|          5|            0|          0|   N|                Y|\n",
            "| R9PYL3OYH55QY|          5|            0|          1|   N|                Y|\n",
            "|R3PWBAWUS4NT0Q|          3|            0|          0|   N|                Y|\n",
            "|R15LYP3O51UU9E|          5|            0|          0|   N|                Y|\n",
            "|R1AD7L0CC3DSRI|          5|            0|          0|   N|                Y|\n",
            "|R32FE8Y45QV434|          5|            0|          0|   N|                Y|\n",
            "|R3NM4MZ4XWL43Q|          5|            1|          2|   N|                Y|\n",
            "|R3H4FXX6Q7I37D|          4|            0|          0|   N|                Y|\n",
            "|R30L5PET7LFFDC|          5|            1|          1|   N|                Y|\n",
            "|  REFRE1LEKLAF|          4|            1|          1|   N|                Y|\n",
            "|R3JTJ5EQN74E9H|          5|            0|          0|   N|                Y|\n",
            "|R1W2F091LCOAW5|          5|            0|          0|   N|                Y|\n",
            "| RYUMFQRRB1FNM|          3|            0|          0|   N|                Y|\n",
            "| RHCS6VVXWV3Q3|          5|            0|          0|   N|                Y|\n",
            "|R35UL1YZ2142SL|          5|            0|          0|   N|                Y|\n",
            "|  RU1O6QD1LEBB|          5|            0|          0|   N|                Y|\n",
            "|R36RXVL3XIZFH7|          5|            0|          0|   N|                N|\n",
            "|R16O7SHYHLEYA1|          5|            0|          0|   N|                Y|\n",
            "|R1Y5GX65Z2V9BG|          5|            0|          0|   N|                N|\n",
            "+--------------+-----------+-------------+-----------+----+-----------------+\n",
            "only showing top 20 rows\n",
            "\n"
          ],
          "name": "stdout"
        }
      ]
    },
    {
      "cell_type": "code",
      "metadata": {
        "id": "4FjkmBlZT1Di"
      },
      "source": [
        "import numpy as np\r\n",
        "non_zero_data = vine_df.filter(\"total_votes > 0\")"
      ],
      "execution_count": 19,
      "outputs": []
    },
    {
      "cell_type": "code",
      "metadata": {
        "colab": {
          "base_uri": "https://localhost:8080/"
        },
        "id": "caopucOkCLzp",
        "outputId": "b12002e9-9d8f-4b44-f13a-f2fc8201ef7c"
      },
      "source": [
        "# Filter vine datatable and retreive all the rows where the number of helpful_votes divided by total_votes is equal to or greater than 50%\r\n",
        "\r\n",
        "filtered_df = vine_df.filter(non_zero_data[\"helpful_votes\"]/non_zero_data[\"total_votes\"] >= 0.5)\r\n",
        "filtered_df.show(20)\r\n"
      ],
      "execution_count": 35,
      "outputs": [
        {
          "output_type": "stream",
          "text": [
            "+--------------+-----------+-------------+-----------+----+-----------------+\n",
            "|     review_id|star_rating|helpful_votes|total_votes|vine|verified_purchase|\n",
            "+--------------+-----------+-------------+-----------+----+-----------------+\n",
            "|R3NM4MZ4XWL43Q|          5|            1|          2|   N|                Y|\n",
            "|R30L5PET7LFFDC|          5|            1|          1|   N|                Y|\n",
            "|  REFRE1LEKLAF|          4|            1|          1|   N|                Y|\n",
            "|R25Z4ADMYBHR66|          4|            1|          2|   N|                Y|\n",
            "|R2SGL2ZAPGJH9I|          5|            1|          1|   N|                N|\n",
            "| RZR1QCHTL8Q4Z|          5|            1|          1|   N|                N|\n",
            "|R2M8ZRIWBPQGRR|          4|            1|          1|   N|                Y|\n",
            "|R3C2J53J8UDDPW|          5|            5|          5|   N|                N|\n",
            "|R37RFLBIGKHA9L|          4|            1|          1|   N|                N|\n",
            "|R39NGBRCQYAJRH|          4|            4|          4|   N|                N|\n",
            "|R1IWRRPT6Z5Q1C|          5|            1|          1|   N|                Y|\n",
            "| RNSWM86DC2CJA|          5|            1|          1|   N|                Y|\n",
            "| RAERVMB5F7O47|          3|            6|          8|   N|                Y|\n",
            "|R2RLRFIU3YUFPJ|          4|            1|          1|   N|                Y|\n",
            "|R3ERZW3I41SAI1|          3|            1|          2|   N|                Y|\n",
            "|R1CNP6MGCADO1K|          5|            1|          1|   N|                Y|\n",
            "|R2XTTXRU1TP17Z|          5|            1|          1|   N|                N|\n",
            "| RUUV6LJ773THT|          5|            1|          1|   N|                Y|\n",
            "|R2EMAFYRFJCV6E|          5|            1|          1|   N|                Y|\n",
            "|R3S1JPIRG0EHMU|          4|            2|          4|   N|                N|\n",
            "+--------------+-----------+-------------+-----------+----+-----------------+\n",
            "only showing top 20 rows\n",
            "\n"
          ],
          "name": "stdout"
        }
      ]
    },
    {
      "cell_type": "code",
      "metadata": {
        "id": "YchQwiDnCMBm",
        "colab": {
          "base_uri": "https://localhost:8080/"
        },
        "outputId": "49cb81ce-fd36-4a49-f861-d36abec5843e"
      },
      "source": [
        "# Create new df that retreives all the rows where a review was written as part of the vine program paid ( vine == 'Y')\r\n",
        "Y_df = filtered_df.filter(filtered_df[\"vine\"] == \"Y\")"
      ],
      "execution_count": 36,
      "outputs": [
        {
          "output_type": "stream",
          "text": [
            "+--------------+-----------+-------------+-----------+----+-----------------+\n",
            "|     review_id|star_rating|helpful_votes|total_votes|vine|verified_purchase|\n",
            "+--------------+-----------+-------------+-----------+----+-----------------+\n",
            "|R2RZF08POZS24Y|          3|            1|          1|   Y|                N|\n",
            "| RL3APATHQK2NS|          4|            1|          1|   Y|                N|\n",
            "| RUYAP1ZCYRED7|          3|            1|          2|   Y|                N|\n",
            "|R1SWZLB1A4460R|          2|            1|          2|   Y|                N|\n",
            "| RJUAWYTKIM4V7|          3|            1|          1|   Y|                N|\n",
            "|R3NP8J9PAV58Z2|          4|            2|          2|   Y|                N|\n",
            "|R3BQZZOY6KJXRR|          5|            1|          2|   Y|                N|\n",
            "|R3EZBSCDWLTTGO|          4|            1|          1|   Y|                N|\n",
            "| RMTJWZKUPN18Z|          4|            1|          1|   Y|                N|\n",
            "|R3105EK6O6JYDY|          3|            1|          1|   Y|                N|\n",
            "| RXQO5ZIGOAMJL|          4|            1|          1|   Y|                N|\n",
            "|R1HZNOPHPGYVUJ|          1|            1|          1|   Y|                N|\n",
            "|R3K60YTB4U9DB6|          4|            2|          2|   Y|                N|\n",
            "|R3BDNPZ3JFGK46|          4|            1|          1|   Y|                N|\n",
            "|R17AFUAEF3FMA4|          4|            1|          1|   Y|                N|\n",
            "|R2D7J5ICS14I5O|          4|            1|          1|   Y|                N|\n",
            "|R26JW39P98B7JG|          4|            1|          1|   Y|                N|\n",
            "|R2VNVOKU2M9PX2|          5|            1|          2|   Y|                N|\n",
            "|R24QI2SA4NYNZ5|          3|            1|          2|   Y|                N|\n",
            "|R1UGT43JXJ47LU|          5|            4|          4|   Y|                N|\n",
            "+--------------+-----------+-------------+-----------+----+-----------------+\n",
            "only showing top 20 rows\n",
            "\n"
          ],
          "name": "stdout"
        }
      ]
    },
    {
      "cell_type": "code",
      "metadata": {
        "id": "F74H7pkQCMIv",
        "colab": {
          "base_uri": "https://localhost:8080/"
        },
        "outputId": "d27802cf-5cab-4500-c0d8-f5ce833105be"
      },
      "source": [
        "\r\n",
        "# Create new df that retreives all the rows where a review was written as part of the vine program unpaid ( vine == 'N')\r\n",
        "N_df = filtered_df.filter(filtered_df[\"vine\"] == \"N\")"
      ],
      "execution_count": 37,
      "outputs": [
        {
          "output_type": "stream",
          "text": [
            "+--------------+-----------+-------------+-----------+----+-----------------+\n",
            "|     review_id|star_rating|helpful_votes|total_votes|vine|verified_purchase|\n",
            "+--------------+-----------+-------------+-----------+----+-----------------+\n",
            "|R3NM4MZ4XWL43Q|          5|            1|          2|   N|                Y|\n",
            "|R30L5PET7LFFDC|          5|            1|          1|   N|                Y|\n",
            "|  REFRE1LEKLAF|          4|            1|          1|   N|                Y|\n",
            "|R25Z4ADMYBHR66|          4|            1|          2|   N|                Y|\n",
            "|R2SGL2ZAPGJH9I|          5|            1|          1|   N|                N|\n",
            "| RZR1QCHTL8Q4Z|          5|            1|          1|   N|                N|\n",
            "|R2M8ZRIWBPQGRR|          4|            1|          1|   N|                Y|\n",
            "|R3C2J53J8UDDPW|          5|            5|          5|   N|                N|\n",
            "|R37RFLBIGKHA9L|          4|            1|          1|   N|                N|\n",
            "|R39NGBRCQYAJRH|          4|            4|          4|   N|                N|\n",
            "|R1IWRRPT6Z5Q1C|          5|            1|          1|   N|                Y|\n",
            "| RNSWM86DC2CJA|          5|            1|          1|   N|                Y|\n",
            "| RAERVMB5F7O47|          3|            6|          8|   N|                Y|\n",
            "|R2RLRFIU3YUFPJ|          4|            1|          1|   N|                Y|\n",
            "|R3ERZW3I41SAI1|          3|            1|          2|   N|                Y|\n",
            "|R1CNP6MGCADO1K|          5|            1|          1|   N|                Y|\n",
            "|R2XTTXRU1TP17Z|          5|            1|          1|   N|                N|\n",
            "| RUUV6LJ773THT|          5|            1|          1|   N|                Y|\n",
            "|R2EMAFYRFJCV6E|          5|            1|          1|   N|                Y|\n",
            "|R3S1JPIRG0EHMU|          4|            2|          4|   N|                N|\n",
            "+--------------+-----------+-------------+-----------+----+-----------------+\n",
            "only showing top 20 rows\n",
            "\n"
          ],
          "name": "stdout"
        }
      ]
    },
    {
      "cell_type": "code",
      "metadata": {
        "id": "teOmb2vFCMPw"
      },
      "source": [
        "# Determine the total number of reviews, the number of 5 star reviews for the two types of reviews\\\r\n",
        "five_star_df = filtered_df.filter(filtered_df[\"star_rating\"] == 5)"
      ],
      "execution_count": 42,
      "outputs": []
    },
    {
      "cell_type": "code",
      "metadata": {
        "id": "iuiY9gbZANHE",
        "colab": {
          "base_uri": "https://localhost:8080/"
        },
        "outputId": "ab073a3f-e145-4259-8e3e-9698da5cded4"
      },
      "source": [
        "# Determine the number of 5 star reviews by using the .count on the 5 star df\r\n",
        "five_star_number = five_star_df.count()\r\n",
        "five_star_number"
      ],
      "execution_count": 48,
      "outputs": [
        {
          "output_type": "execute_result",
          "data": {
            "text/plain": [
              "1676705"
            ]
          },
          "metadata": {
            "tags": []
          },
          "execution_count": 48
        }
      ]
    },
    {
      "cell_type": "code",
      "metadata": {
        "id": "YoqIEhhFANJu",
        "colab": {
          "base_uri": "https://localhost:8080/"
        },
        "outputId": "8fb5f5ee-2b5f-4990-a082-84dc5e65fc7b"
      },
      "source": [
        "# Determine the total reviews by counting the total rows in the filtered_df\r\n",
        "filtered_number = filtered_df.count()\r\n",
        "filtered_number"
      ],
      "execution_count": 49,
      "outputs": [
        {
          "output_type": "execute_result",
          "data": {
            "text/plain": [
              "2386770"
            ]
          },
          "metadata": {
            "tags": []
          },
          "execution_count": 49
        }
      ]
    },
    {
      "cell_type": "code",
      "metadata": {
        "id": "Ap5lFE8NANMb",
        "colab": {
          "base_uri": "https://localhost:8080/"
        },
        "outputId": "dd192433-841d-40fd-825d-c764fd6b7ddb"
      },
      "source": [
        "# Use the count of 5 star reviews and divide by the total reviews \r\n",
        "percent_of_five_star = (five_star_number / filtered_number) * 100\r\n",
        "percent_of_five_star"
      ],
      "execution_count": 50,
      "outputs": [
        {
          "output_type": "execute_result",
          "data": {
            "text/plain": [
              "70.24996124469472"
            ]
          },
          "metadata": {
            "tags": []
          },
          "execution_count": 50
        }
      ]
    },
    {
      "cell_type": "code",
      "metadata": {
        "id": "EYLVVK4HANPP",
        "colab": {
          "base_uri": "https://localhost:8080/"
        },
        "outputId": "31ec28a3-d44e-432e-f5b7-ab8ec9c528b1"
      },
      "source": [
        "# Determine the percentage of five star reviews for each type of review\r\n",
        "verified_five_star = five_star_df.filter(five_star_df[\"verified_purchase\"] == \"Y\").count()\r\n",
        "\r\n",
        "(verified_five_star / filtered_df.filter(filtered_df[\"verified_purchase\"] == \"Y\").count()) * 100"
      ],
      "execution_count": 46,
      "outputs": [
        {
          "output_type": "execute_result",
          "data": {
            "text/plain": [
              "74.43664359866854"
            ]
          },
          "metadata": {
            "tags": []
          },
          "execution_count": 46
        }
      ]
    },
    {
      "cell_type": "code",
      "metadata": {
        "id": "dhzOmcRmFLKQ",
        "colab": {
          "base_uri": "https://localhost:8080/"
        },
        "outputId": "a9afb946-219a-41eb-9ad9-21c760f5f561"
      },
      "source": [
        "# Determine the percentage of five star reviews for each type of review\r\n",
        "non_verified_five_star = five_star_df.filter(five_star_df[\"verified_purchase\"] == \"N\").count()\r\n",
        "\r\n",
        "(non_verified_five_star / filtered_df.filter(filtered_df[\"verified_purchase\"] == \"N\").count()) * 100"
      ],
      "execution_count": 47,
      "outputs": [
        {
          "output_type": "execute_result",
          "data": {
            "text/plain": [
              "68.65770387629985"
            ]
          },
          "metadata": {
            "tags": []
          },
          "execution_count": 47
        }
      ]
    }
  ]
}